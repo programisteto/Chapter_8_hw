{
 "cells": [
  {
   "cell_type": "markdown",
   "metadata": {},
   "source": [
    "# Mathematical Modeling Homework: Chapter 8: 4, 5, 6\n",
    "\n",
    "### <center> Mitch Lowry <br> April 17, 2016 </center>"
   ]
  },
  {
   "cell_type": "markdown",
   "metadata": {},
   "source": [
    "**Problem 4:**  Reconsider the inventory problem of Example 8.1, but now suppose that three additional aquariums are ordered any time that there are less than two in stock at the end of the week.\n",
    "\n",
    "<br>\n",
    "\n",
    "<center> Background information from Example 8.1 </center>\n",
    "\n",
    "<br>\n",
    "\n",
    "A pet store sells a limited number of 20-gallon aquariums. At the end of each week, the store manager takes inventory and places orders. Store policy is to order three new 20-gallon aquariums at the end of the week if all the current inventory has been sold. If even one of the 20-gallon aquariums remains in stock, no new units are ordered. This policy is based on the observation that the store only sells an average of one of the 20-gallon aquariums per week. Is this policy adequate to guard against potential lost sales of 20-gallon aquariums due to a customer requesting one when they are out of stock?\n",
    "\n",
    "__Part (a): Determine the probability that demand exceed supply on any given week. Use the five-step method and model as a Markov chain in steady state.__\n",
    "\n",
    "### Step 1: Ask a question\n",
    "\n",
    "Our question here is what is the probability that demand exceeds supply. In order to do this we must make some assumptions about the arrival of buyers who will purchase an aquarium if there is one in stock and the supply of aquariums at the beginning of any given week, which we define as $D_n$ and $S_n$, respectively. Our assumptions about the supply of aquariums have already been made by the store's current inventory policy, which we may or may not alter to improve profits. We assume that the probability distribution of the demand for aquariums is a poisson distribution centered at 1. A summary of step one is provided below.\n",
    "\n",
    "<br>\n",
    "\n",
    "**Variables:**\n",
    "\n",
    "$S_n =$ supply of aquariums at the beginning of week $n$.\n",
    "\n",
    "$D_n =$ demand for aquariums during week $n$.\n",
    "\n",
    "\n",
    "**Assumptions:**\n",
    "\n",
    "If $D_{n-1} < S_{n-1} - 1$, then $S_n = S_{n-1} - D_{n-1}$.\n",
    "\n",
    "If $D_{n-1} \\ge S_{n-1} - 1$, then $S_n = S_{n-1} - D_{n-1} + 3$.\n",
    "\n",
    "$Pr(D_n = k) = \\dfrac{e^{-1}}{k!}$\n",
    "\n",
    "\n",
    "**Objective:** \n",
    "\n",
    "Calculate $Pr(D_n > S_n)$.\n",
    "\n",
    "<br>\n",
    "\n",
    "### Step 2: Select a Modeling Approach\n",
    "\n",
    "As designated by the problem, we will model this system as a Markov chain. \n",
    "\n",
    "### Step 3: Formulate the Model\n",
    "\n",
    "Here we are considering the random variable $S_n$. We know that $S_n \\in \\{2, 3, 4\\}$ because at the end of week $n-1$ there could potentially be $0$ or $1$ aquariums left ($S_{n-1} - D_{n-1} \\in \\{0, 1\\}$), which would mean $S_n \\in \\{3, 4\\}$, and otherwise we have $2$ or more aquariums left at the end of week; however, it it not possible to have more than $4$ aquariums in stock. Since we have assumed that $D_n$ is a poisson process centered at $1$, $S_n$ depends only on $S_{n-1}$. Thus, we can say that the sequence $\\{S_n\\}$ is a Markov chain.\n",
    "\n",
    "We do not know the value of $S_0$, but it seems reasonable to make the assumption that $S_0 = 3$; however, we may adjust this assumption later on. \n",
    "\n",
    "The only way to get to state $j$ at time $n$ is to have come from some state $i$ at time $n-1$. We assume that the probability of changing between any two states is constant, i.e. it does not depend on time. We define $p_{ij}$ as the probability of going from state $i$ to state $j$.\n",
    "\n",
    "First of all, the probability of transitioning between states is clearly dependent on the distribution of $D_n$. We compute relevant values of $D_n$ below."
   ]
  },
  {
   "cell_type": "code",
   "execution_count": 1,
   "metadata": {
    "collapsed": false
   },
   "outputs": [
    {
     "name": "stdout",
     "output_type": "stream",
     "text": [
      "P(Dₙ = 0) = 0.36787944117144233.\n",
      "P(Dₙ = 1) = 0.36787944117144233.\n",
      "P(Dₙ = 2) = 0.18393972058572117.\n",
      "P(Dₙ = 3) = 0.06131324019524039.\n",
      "P(Dₙ = 4) = 0.015328310048810098.\n",
      "P(Dₙ > 4) = 0.00365984682734366.\n",
      "As a check, the sum of these values is 1.0.\n"
     ]
    }
   ],
   "source": [
    "import math\n",
    "\n",
    "def D(r, k):\n",
    "    return r**k*math.e**(-r)/math.factorial(k)\n",
    "\n",
    "# We will define m as the largest value of potential buyers that we are interested in.\n",
    "# In this case we have m = 4.\n",
    "\n",
    "vals = []\n",
    "r = 1\n",
    "m = 4\n",
    "k = 0\n",
    "while k <= m:\n",
    "    vals.append(D(r, k))\n",
    "    k += 1\n",
    "\n",
    "vals.append(1-sum(vals))\n",
    "    \n",
    "for num in range(5):\n",
    "    print(u'P(D\\u2099 = ' + str(num) + \") = \" + str(vals[num]) + \".\")\n",
    "    \n",
    "    \n",
    "print(u\"P(D\\u2099 > \" + str(m) + \")\" +  \" = \"  + str(vals[len(vals) - 1]) + \".\")\n",
    "print(\"As a check, the sum of these values is \" + str(sum(vals)) + \".\")"
   ]
  },
  {
   "cell_type": "markdown",
   "metadata": {},
   "source": [
    "We can now use these probabilites to find the transition probabilites.\n",
    "\n",
    "We can see the following:\n",
    "\n",
    "* $p_{22} = P(D_n = 0)$.\n",
    "* $p_{23} = P(D_n \\ge 2) = 1 - P(D_n < 2) = 1 - P(D_n = 0) - P(D_n = 1)$.\n",
    "* $p_{24} = P(D_n = 1)$.\n",
    "* $p_{32} = P(D_n = 1)$.\n",
    "* $p_{33} = P(D_n \\ne 1) = 1 - P(D_n = 1)$.\n",
    "* $p_{34} = 0$.\n",
    "* $p_{42} = P(D_n = 2)$.\n",
    "* $p_{43} = P(D_n = 1) + P(D_n \\ge 4)$.\n",
    "* $p_{44} = P(D_n = 0) + P(D_n = 3)$.\n",
    "\n",
    "We define our probability transition matrix as P. We will compute each of these in order below."
   ]
  },
  {
   "cell_type": "code",
   "execution_count": 2,
   "metadata": {
    "collapsed": false
   },
   "outputs": [
    {
     "name": "stdout",
     "output_type": "stream",
     "text": [
      "P = [[0.36787944117144233, 0.26424111765711533, 0.36787944117144233], [0.36787944117144233, 0.6321205588285577, 0], [0.18393972058572117, 0.3868675980475961, 0.4291926813666827]].\n"
     ]
    }
   ],
   "source": [
    "P = []\n",
    "P.append([vals[0], 1 - vals[0] - vals[1], vals[1]])\n",
    "P.append([vals[1], 1 - vals[1], 0])\n",
    "P.append([vals[2], vals[1] + vals[4] + vals[5], vals[0] + vals[3]])\n",
    "print(\"P = \" + str(P) + \".\")"
   ]
  },
  {
   "cell_type": "markdown",
   "metadata": {},
   "source": [
    "### Step 4: Solving the Model\n",
    "\n",
    "It is clear that $\\{S_n\\}$ is ergodic; thus, we know that there is a unique steady-state probability vector $a$ that can be computed by solving the steady-state equations. Let $a_2$ be the probability of being in state $2$ in the long-run, $a_3$ be the probability of being in state $3$ in the long-run, and $a_4$ be the probability of being in state $4$ in the long-run. We know that $a = a \\cdot P$, and also that $a_2 + a_3 + a_4 = 1$. We can see that we have $4$ equations and $3$ variables here, so we can remove one of the equations. We solve this using the SymPy library below."
   ]
  },
  {
   "cell_type": "code",
   "execution_count": 3,
   "metadata": {
    "collapsed": false
   },
   "outputs": [
    {
     "name": "stdout",
     "output_type": "stream",
     "text": [
      "{a2: 0.328890387984264, a4: 0.211966469575059, a3: 0.459143142440677}\n",
      "[0.3288903879842639, 0.459143142440677, 0.21196646957505913]\n",
      "I guess it worked. It just solved them out of order.\n"
     ]
    }
   ],
   "source": [
    "from sympy import *\n",
    "\n",
    "a = []\n",
    "a2, a3, a4 = symbols('a2 a3 a4')\n",
    "set_a = solve((a2 + a3 + a4 - 1, a2 - P[0][0]*a2 - P[1][0]*a3 - P[2][0]*a4, \\\n",
    "          a3 - P[0][1]*a2 - P[1][1]*a3 - P[2][1]*a4), (a2, a3, a4))\n",
    "\n",
    "a.extend([float(set_a[a2]),float(set_a[a3]), float(set_a[a4])])\n",
    "\n",
    "print(str(set_a))\n",
    "print(str(a))\n",
    "\n",
    "# For some reason sympy is being weird and storing the variables out of order.\n",
    "# Let's check our answers to be sure that they are correct. Due to rounding we will\n",
    "# use some small delta value instead of using 0.\n",
    "\n",
    "if a[0] + a[1] + a[2] - 1 < .001 and a[0] - P[0][0]*a[0] - P[1][0]*a[1] - \\\n",
    "P[2][0]*a[2] < .001 and a[1] - P[0][1]*a[0] - P[1][1]*a[1] - P[2][1]*a[2] < .001:\n",
    "    print(\"I guess it worked. It just solved them out of order.\")\n",
    "else:\n",
    "    print(\"The solve function is finicky.\")"
   ]
  },
  {
   "cell_type": "markdown",
   "metadata": {},
   "source": [
    "The main objective here, as outlined in step one is to compute $P(D_n > S_n)$. By probability rules we know that $$P(D_n > S_n) = \\sum_{i=2}^{4} P(D_n > S_n | S_n = i) \\cdot  P(S_n = i) = \\sum_{i=2}^{4} P(D_n > S_n | S_n = i) \\cdot  a_i$$.\n",
    "\n",
    "We compute $P(D_n > S_n | S_n =i)$ below."
   ]
  },
  {
   "cell_type": "code",
   "execution_count": 4,
   "metadata": {
    "collapsed": false
   },
   "outputs": [
    {
     "data": {
      "text/plain": [
       "[0.08030139707139416, 0.01898815687615374, 0.00365984682734366]"
      ]
     },
     "execution_count": 4,
     "metadata": {},
     "output_type": "execute_result"
    }
   ],
   "source": [
    "P_excess_demand_state_i = []\n",
    "\n",
    "for i in range(2, 5):\n",
    "    P_excess_demand_state_i.append(1 - sum(vals[:i+1]))\n",
    "    #print(str(vals[:i+1])) Checking stuff\n",
    "                        \n",
    "P_excess_demand_state_i"
   ]
  },
  {
   "cell_type": "markdown",
   "metadata": {},
   "source": [
    "Now we compute the $P(D_n > S_n)$ by taking the dot product of $a$ and the above vector."
   ]
  },
  {
   "cell_type": "code",
   "execution_count": 5,
   "metadata": {
    "collapsed": false
   },
   "outputs": [
    {
     "name": "stdout",
     "output_type": "stream",
     "text": [
      "We have P(Dₙ > Sₙ) = 0.03590440446694056\n"
     ]
    }
   ],
   "source": [
    "print(u\"We have P(D\\u2099 > S\\u2099) = \" + \\\n",
    "      str(sum(map(lambda x,y:x*y,P_excess_demand_state_i,a))))"
   ]
  },
  {
   "cell_type": "markdown",
   "metadata": {},
   "source": [
    "### Step 5: Sensitivity Analysis\n",
    "\n",
    "<br>\n",
    "\n",
    "For our sensitivity analysis we will not talk about seasonal trends or anything requiring the Markov model to depend on more than $S_{n-1}$. Like in Example $8.1$ we will examine the effect of varying the average number of potential buyers per week ($\\lambda$). To do this, I was kind of lazy. I simply reran the above code boxes, except I changed the definition of the probability distribution of $D_n$. That is, I changed the -1 to -.8, -.9, -1.1, and -1.2, and simply wrote down each of the values. The point with choosing numbers that are pretty close to 1 is that the store will probably not have huge changes in the average number of customers per week over time; however, it could be the case that the original problem had an unreasonable number for the number of potential customers per week.\n",
    "\n",
    "I ended up that the probability of excess demand as .0202, .0275, .0359, .0455, .0563 for when the probability distribution of $D_n$ is centered at the values .8, .9, 1.0, 1.1, and 1.2, respectively. More sophisticated measurements of sensitivity can be derived from these numbers, if desired.\n",
    "\n",
    "Note that the probability of excess demand becomes very large $\\lambda$ values that might seem unreasonable. For example, if the store doubles it's potential customers ($\\lambda = 2$), then the probability of excess demand is .1774. Having $\\lambda$ double may seem unreasonable, but if there are seasonal trends, then this may very well be the case. That is, $\\lambda=1$ were based off of the average for the whole year, and the number of aquariums sold weekly in the summer is double that of the whole year, then during the summer we would have a large probability of excess demand."
   ]
  },
  {
   "cell_type": "markdown",
   "metadata": {},
   "source": [
    "__Part (b): Use the steady-state probabilities from part (a) to calculate the expected number of aquariums sold per week under this inventory policy.__\n",
    "\n",
    "<br>\n",
    "\n",
    "Let the random variable $X$ represent the number of aquariums sold per week. Then we have the following:\n",
    "\n",
    "<br>\n",
    "\n",
    "$E(X) = \\sum_{i=0}^{4} i \\cdot P(X = i) = \\sum_{i=0}^{4} i \\cdot P($There are at least i tvs in stock on any given week $ \\cap $ The demand for tvs is i on any given week$) = \\sum_{i=0}^{4} i \\cdot P($There are at least i tvs in stock on any given week$) \\cdot P($The demand for tvs is i on any given week$) = \\sum_{i=0}^{4} i \\cdot P(S_n \\ge i \\cap D_n = i) = \\sum_{i=0}^{4} i \\cdot P(S_n \\ge i) \\cdot$  $P(D_n = i) =$ $0 \\cdot (a_2 + a_3 + a_4) \\cdot P(D_n = 0)$ $+$ $1 \\cdot (a_2 + a_3 + a_4) \\cdot P(D_n = 1)$ $+$ $2 \\cdot (a_2 + a_3 + a_4) \\cdot P(D_n = 2)$ $+$ $3 \\cdot (a_3 + a_4) \\cdot P(D_n = 3)$ $+$ $4 \\cdot (a_4) \\cdot P(D_n = 4)$.\n",
    "\n",
    "A step of explanation is missing here, but it is clear that they can sell at most as many aquariums as they have in stock, and we determine the number of aquariums in stock by the long-term probabilities of being in a state at any given time. This computation is shown below."
   ]
  },
  {
   "cell_type": "code",
   "execution_count": 6,
   "metadata": {
    "collapsed": false
   },
   "outputs": [
    {
     "name": "stdout",
     "output_type": "stream",
     "text": [
      "The expected number of aquariums sold per week is 0.8721989479218436.\n"
     ]
    }
   ],
   "source": [
    "EX = 0\n",
    "i = 0\n",
    "start = 0\n",
    "while i < 5:\n",
    "    if i > start + 2:\n",
    "        start += 1\n",
    "    EX += sum(a[start:])*vals[i] * i\n",
    "    i += 1\n",
    "    \n",
    "print(\"The expected number of aquariums sold per week is \" + str(EX) + \".\")"
   ]
  },
  {
   "cell_type": "markdown",
   "metadata": {},
   "source": [
    "__Part (c): Repeat part (b) for the inventory policy in Example 8.1__\n",
    "\n",
    "<br>\n",
    "\n",
    "In this case, we repeat the process done in the previous code box, except we have a different steady-state probability vector. This vector, call it $v = (v_1, v_2, v_3) = (0.285,  0.263,  0.452)$. This calculation is shown below."
   ]
  },
  {
   "cell_type": "code",
   "execution_count": 7,
   "metadata": {
    "collapsed": false
   },
   "outputs": [
    {
     "name": "stdout",
     "output_type": "stream",
     "text": [
      "The expected number of aquariums sold per week is 0.7140539953137696.\n"
     ]
    }
   ],
   "source": [
    "v = [.285, .263, .452]\n",
    "EX2 = 0\n",
    "i = 0\n",
    "start = 0\n",
    "while i < 5:\n",
    "    if i > start + 1:\n",
    "        start += 1\n",
    "    EX2 += sum(v[start:])*vals[i] * i\n",
    "    i += 1\n",
    "    \n",
    "print(\"The expected number of aquariums sold per week is \" + str(EX2) + \".\")"
   ]
  },
  {
   "cell_type": "markdown",
   "metadata": {},
   "source": [
    "__Part (d): Suppose that the store makes a profit of 5 dollars per 20-gallon aquarium sold. How much would the store gain by implementing the new inventory policy?__\n",
    "\n",
    "<br>\n",
    "\n",
    "We will compute the weekly and 52-weekly (approximately yearly) gain in profit below."
   ]
  },
  {
   "cell_type": "code",
   "execution_count": 8,
   "metadata": {
    "collapsed": false
   },
   "outputs": [
    {
     "name": "stdout",
     "output_type": "stream",
     "text": [
      "The gain in weekly profit is 0.7907247630403702 dollars.\n",
      "The gain in yearly profit is 41.11768767809925 dollars.\n"
     ]
    }
   ],
   "source": [
    "weekly_gain = 5*(EX - EX2)\n",
    "yearly_gain = 52*weekly_gain\n",
    "print(\"The gain in weekly profit is \" + str(weekly_gain) + \" dollars.\")\n",
    "print(\"The gain in yearly profit is \" + str(yearly_gain) + \" dollars.\")"
   ]
  },
  {
   "cell_type": "markdown",
   "metadata": {},
   "source": [
    "**Problem 5:**  For the purposes of this problem, we will consider the stock market to be in one of three states:\n",
    "\n",
    "<br>\n",
    "\n",
    "<center>\n",
    "<ol>\n",
    "    <li> Bear market </li>\n",
    "    <li> Strong bull market </li>\n",
    "    <li> Weak bull market </li>\n",
    "</ol>\n",
    "</center>\n",
    "\n",
    "<br>\n",
    "\n",
    "Historically, a certain mutual fund gained -3%, 28%, and 10% annually when the market was in states 1, 2, and 3 respectively. Assume that the state transition probability matrix\n",
    "\n",
    "<br>\n",
    "\n",
    "<center>\n",
    "$P = \\begin{bmatrix}\n",
    "    p_{11} & p_{12} & p_{13} \\\\\n",
    "    p_{21} & p_{22} & p_{23} \\\\\n",
    "    p_{31} & p_{32} & p_{33}\n",
    "\\end{bmatrix} \n",
    "=\n",
    "\\begin{bmatrix}\n",
    "    0.90 & 0.02 & 0.08 \\\\\n",
    "    0.05 & 0.85 & 0.10 \\\\\n",
    "    0.05 & 0.05 & 0.90\n",
    "\\end{bmatrix}$\n",
    "</center>\n",
    "\n",
    "<br>\n",
    "\n",
    "applies to the weekly change of state in the stock market."
   ]
  },
  {
   "cell_type": "markdown",
   "metadata": {},
   "source": [
    "**Part (a): Determine the steady-state distribution of the market state.**\n",
    "\n",
    "<br>\n",
    "\n",
    "Let $b_i$ be the probability of being in state $i$ in the long-run. Let $b = [b_1, b_2, b_3]$. As before, this is an ergodic Markov chain, so we have $a = aP$. We solve this system below."
   ]
  },
  {
   "cell_type": "code",
   "execution_count": 16,
   "metadata": {
    "collapsed": false
   },
   "outputs": [
    {
     "name": "stdout",
     "output_type": "stream",
     "text": [
      "{b2: 0.200000000000000, b1: 0.333333333333333, b3: 0.466666666666667}\n",
      "[0.3333333333333333, 0.2, 0.4666666666666667]\n"
     ]
    }
   ],
   "source": [
    "from sympy import *\n",
    "\n",
    "P = [[0.90, 0.02, 0.08],[0.05, 0.85, 0.10],[0.05, 0.05, 0.90]]\n",
    "b = []\n",
    "b1, b2, b3 = symbols('b1 b2 b3')\n",
    "set_b = solve((b1 + b2 + b3 - 1, b1 - P[0][0]*b1 - P[1][0]*b2 - \\\n",
    "               P[2][0]*b3, b2 - P[0][1]*b1 - P[1][1]*b2 - \\\n",
    "               P[2][1]*b3), (b1, b2, b3))\n",
    "\n",
    "#Let's fix these orderings again.\n",
    "\n",
    "b.extend([float(set_b[b1]), float(set_b[b2]), float(set_b[b3])])\n",
    "print(set_b)\n",
    "print(b)"
   ]
  },
  {
   "cell_type": "markdown",
   "metadata": {},
   "source": [
    "We can see that $b = [b_1, b_2, b_3] = [\\dfrac{1}{3}, \\dfrac{2}{10}, \\dfrac{7}{15}]$"
   ]
  },
  {
   "cell_type": "markdown",
   "metadata": {},
   "source": [
    "**Part (b) Suppose that 10,000 dollars is invested in the fund for ten years. Determine the expected total yield. Does the order of state transition make any difference?**\n",
    "\n",
    "<br>\n",
    "\n",
    "Here we have a compounding interest problem. We let the random variable $Y_n$ be the amount of money that is in the fund at year $n$, and we know that $Y_0 = 10000$. Let the random variable $r_n$ be the interest rate recieved in year $n$. Additionally, since we have compounding interest we have $Y_n = Y_{n-1} + r_{n-1} \\cdot Y_{n-1}$. "
   ]
  },
  {
   "cell_type": "markdown",
   "metadata": {},
   "source": [
    "**Part (c): In the worst-case scenario, the long-run expected proportion of time in each market state is 40, 20, and 40 percent, respectively. What is the effect on the answer to part (b)?**\n",
    "\n",
    "<br>"
   ]
  },
  {
   "cell_type": "markdown",
   "metadata": {},
   "source": [
    "**Part (d): (d) In the best-case scenario, the long-run expected proportion of time in each market state is 10, 70, and 20 percent, respectively. What is the effect on the answer to part (b)?**\n",
    "\n",
    "<br>"
   ]
  },
  {
   "cell_type": "markdown",
   "metadata": {},
   "source": [
    "**Part (e) Does this mutal fund offer a better investment opportunity than a money market fund currently yielding about 8 percent? Consider that the money market fund offers a lower risk.**\n",
    "\n",
    "<br>"
   ]
  },
  {
   "cell_type": "markdown",
   "metadata": {},
   "source": [
    "**Problem 6:** A Markov chain model of floods uses the state variable $X_n = 1, 2, 3, 4, 5$ where state $1$ means the average daily flow is below 1,000 cubic feet per second (cfs), state $2$ is 1,000-2,000 cfs, state $3$ is 2,000-5,000 cfs, $4$ is 5,000-10,000 cfs, and $5$ is over 10,000 cfs. The state transition probability matrix for this model is\n",
    "\n",
    "<br>\n",
    "\n",
    "<center>\n",
    "$P = \\begin{bmatrix}\n",
    "    p_{11} & p_{12} & p_{13} & p_{14} & p_{15} \\\\\n",
    "    p_{21} & p_{22} & p_{23} & p_{24} & p_{25} \\\\\n",
    "    p_{31} & p_{32} & p_{33} & p_{34} & p_{35} \\\\\n",
    "    p_{41} & p_{42} & p_{43} & p_{44} & p_{45} \\\\\n",
    "    p_{51} & p_{52} & p_{53} & p_{54} & p_{55}\n",
    "\\end{bmatrix} \n",
    "=\n",
    "\\begin{bmatrix}\n",
    "    0.90 & 0.05 & 0.025 & 0.015 & 0.01 \\\\\n",
    "    0.30 & 0.70 & 0 & 0 & 0 \\\\\n",
    "    0 & 0.40 & 0.60 & 0 & 0 \\\\\n",
    "    0 & 0 & 0.60 & 0.40 & 0 \\\\\n",
    "    0 & 0 & 0 & 0.80 & 0.20\n",
    "\\end{bmatrix}$.\n",
    "</center>"
   ]
  },
  {
   "cell_type": "markdown",
   "metadata": {},
   "source": [
    "__Part (a): Draw the state transition probability diagram for this model.__\n",
    "\n",
    "I have attached this on a piece of copy paper at the end of this document."
   ]
  },
  {
   "cell_type": "markdown",
   "metadata": {},
   "source": [
    "__Part (b): Find the steady-state probability distribution for this model.__\n",
    "\n",
    "Again, this is a ergodic Markov chain. We know that they steady-state probability column vector $b$ is such that $b = bP$. We will recycle the code used at the top of the document to do this."
   ]
  },
  {
   "cell_type": "code",
   "execution_count": 9,
   "metadata": {
    "collapsed": false
   },
   "outputs": [
    {
     "name": "stdout",
     "output_type": "stream",
     "text": [
      "<class 'sympy.core.numbers.Float'>\n",
      "{b5: 0.00826446280991736, b3: 0.0826446280991736, b4: 0.0275482093663912, b1: 0.661157024793388, b2: 0.220385674931129}\n",
      "As a check, we can see that the sum off the steady-state probabilities is 1.0.\n",
      "[0.6611570247933884, 0.22038567493112948, 0.08264462809917356, 0.027548209366391185, 0.008264462809917356]\n"
     ]
    }
   ],
   "source": [
    "from sympy import *\n",
    "\n",
    "P = [[0.90, 0.05, 0.025, 0.015, 0.01],[0.30, 0.70, 0, 0, 0],\\\n",
    "     [0, 0.40, 0.60, 0, 0], [0, 0, 0.60, 0.40, 0], [0, 0, 0, 0.80, 0.20]]\n",
    "b = []\n",
    "b1, b2, b3, b4, b5 = symbols('b1 b2 b3 b4 b5')\n",
    "set_b = solve((b1 + b2 + b3 + b4 + b5 - 1, b1 - P[0][0]*b1 - P[1][0]*b2 - P[2][0]*b3 - \\\n",
    "               P[3][0]*b4 - P[4][0]*b5, b2 - P[0][1]*b1 - P[1][1]*b2 - P[2][1]*b3 - \\\n",
    "              P[3][1]*b4 - P[4][1]*b5, b3 - P[0][2]*b1 - P[1][2]*b2 - P[2][2]*b3 - \\\n",
    "              P[3][2]*b4 - P[4][2]*b5, b4 - P[0][3]*b1 - P[1][3]*b2 - P[2][3]*b3 - \\\n",
    "              P[3][3]*b4 - P[4][3]*b5), (b1, b2, b3, b4, b5))\n",
    "\n",
    "#Again, the answers are out of order, so we'll fix this.\n",
    "\n",
    "b.extend([float(set_b[b1]), float(set_b[b2]), float(set_b[b3]), float(set_b[b4]), \\\n",
    "          float(set_b[b5])])\n",
    "\n",
    "print(type(set_b[b1]))\n",
    "print(str(set_b))\n",
    "print(\"As a check, we can see that the sum off the steady-state probabilities is \" + \\\n",
    "     str(sum(b)) + \".\")\n",
    "print(str(b))"
   ]
  },
  {
   "cell_type": "markdown",
   "metadata": {},
   "source": [
    "Thus we have that $b =[b_1, b_2, b_3, b_4, b_5] = [0.6612, 0.2204, 0.0826, 0.0275, 0.0083\n",
    "]$."
   ]
  },
  {
   "cell_type": "markdown",
   "metadata": {},
   "source": [
    "**Part (c): How often are severe flood (over 10,000 cfs) expected to occur?**\n",
    "\n",
    "We can see from the steady-state probabilites that in the long-run the river is in a state that would be classified as a severe flood $0.83\\%$ of the time."
   ]
  },
  {
   "cell_type": "markdown",
   "metadata": {},
   "source": [
    "** Part (d): A reservoir used for drought storage depends on the flow of this river. When the flow is over 5,000 cfs, the reservoir is allowed to store 1,000 acre-feet per day. When the flow is under 1,000 cfs, the reservoir is required to release 100 acre-feet per day back into the river. Find the expected annual number of acre-feet of water stored in the reservoir. Is this number positive or negative? What does this mean?**\n",
    "\n",
    "Let $R_n$ be a random variable representing the amount of water stored in the reservoir on day $n$. It is clear that $E(R_n) = 1000 \\cdot P(X_n \\ge 4) - 100 \\cdot P(X_n < 4) = 1000 \\cdot (b_4 + b_5) - 100 \\cdot b_1$. To find the expected value for the year, we multiply this number by $365.25$, as shown below."
   ]
  },
  {
   "cell_type": "code",
   "execution_count": 10,
   "metadata": {
    "collapsed": false
   },
   "outputs": [
    {
     "name": "stdout",
     "output_type": "stream",
     "text": [
      "-30.30303030303031\n",
      "The expected annual number of acre-feet of water stored in the reservoir is -11068.181818181822.\n"
     ]
    }
   ],
   "source": [
    "expected_daily_water = 1000*(b[3]+b[4]) - 100*(b[0])\n",
    "expected_annual_water = 365.25*expected_daily_water\n",
    "\n",
    "print(expected_daily_water)\n",
    "print(\"The expected annual number of acre-feet of water stored in the reservoir is \" + \\\n",
    "     str(expected_annual_water) + \".\")"
   ]
  },
  {
   "cell_type": "markdown",
   "metadata": {},
   "source": [
    "This is an extremely large negative number, and what it means is that the river is low very often, i.e. the probability of the flow of the river being less than 1000 cfs is so high that the reservoir frequently runs out of water, which means there are large periods of time during which the reservoir is not usable, and drought may insue. However, having a reservoir is better than not having one at all, I suppose. Also, it may just be the case that the river frequently has less than $1000$ cfs, but that there is not necessarily a drought, meaning that most of the time, the reservoir is not needed, and that it functions as a way to reduce floods and reintroduce the water at a safe but also potentially beneficial point in time."
   ]
  },
  {
   "cell_type": "code",
   "execution_count": null,
   "metadata": {
    "collapsed": true
   },
   "outputs": [],
   "source": []
  }
 ],
 "metadata": {
  "kernelspec": {
   "display_name": "Python 3",
   "language": "python",
   "name": "python3"
  },
  "language_info": {
   "codemirror_mode": {
    "name": "ipython",
    "version": 3
   },
   "file_extension": ".py",
   "mimetype": "text/x-python",
   "name": "python",
   "nbconvert_exporter": "python",
   "pygments_lexer": "ipython3",
   "version": "3.4.3"
  }
 },
 "nbformat": 4,
 "nbformat_minor": 0
}
